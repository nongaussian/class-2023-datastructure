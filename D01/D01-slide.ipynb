{
 "cells": [
  {
   "cell_type": "code",
   "execution_count": null,
   "metadata": {},
   "outputs": [],
   "source": [
    "a = [1, 2, 3, 4, 5]\n",
    "\n",
    "b = a\n",
    "\n",
    "a.append(6)\n",
    "\n",
    "print(b)"
   ]
  },
  {
   "cell_type": "code",
   "execution_count": null,
   "metadata": {},
   "outputs": [],
   "source": [
    "a = 1\n",
    "\n",
    "print(type(a))"
   ]
  },
  {
   "cell_type": "code",
   "execution_count": null,
   "metadata": {},
   "outputs": [],
   "source": [
    "a += 0.1\n",
    "\n",
    "print(type(a))"
   ]
  },
  {
   "cell_type": "code",
   "execution_count": null,
   "metadata": {},
   "outputs": [],
   "source": [
    "a=1\n",
    "b=1\n",
    "def foo():\n",
    "    global a\n",
    "    a=2\n",
    "    b=2\n",
    "\n",
    "foo()\n",
    "\n",
    "print(a)\n",
    "print(b)"
   ]
  },
  {
   "cell_type": "code",
   "execution_count": null,
   "metadata": {},
   "outputs": [],
   "source": [
    "a = 1\n",
    "b = 1.0\n",
    "c = a\n",
    "\n",
    "if a == b:\n",
    "    print(\"a == b\")\n",
    "\n",
    "if a is b:\n",
    "    print(\"a is b\")\n",
    "\n",
    "if a == c:\n",
    "    print(\"a == c\")\n",
    "\n",
    "if a is c:\n",
    "    print(\"a is c\")\n",
    "\n",
    "if id(a) == id(c):\n",
    "    print(\"id(a) == id(c)\")\n"
   ]
  },
  {
   "cell_type": "code",
   "execution_count": null,
   "metadata": {},
   "outputs": [],
   "source": [
    "a = \"test\"\n",
    "\n",
    "a[0] = 'x'\n",
    "\n",
    "print(a)\n"
   ]
  },
  {
   "cell_type": "code",
   "execution_count": null,
   "metadata": {},
   "outputs": [],
   "source": [
    "a = \"test\"\n",
    "\n",
    "a[0] = 'x'"
   ]
  },
  {
   "cell_type": "code",
   "execution_count": null,
   "metadata": {},
   "outputs": [],
   "source": [
    "a = \"test\"\n",
    "a.upper()\n",
    "\n",
    "print(a)"
   ]
  },
  {
   "cell_type": "code",
   "execution_count": null,
   "metadata": {},
   "outputs": [],
   "source": [
    "a = \"test\"\n",
    "b = a.upper()\n",
    "\n",
    "print(b)"
   ]
  },
  {
   "cell_type": "code",
   "execution_count": null,
   "metadata": {},
   "outputs": [],
   "source": [
    "a = \"test\"\n",
    "b = a.upper()\n",
    "\n",
    "if id(a) == id(b):\n",
    "    print(\"mutable\")\n",
    "else:\n",
    "    print(\"b is a new variable\")"
   ]
  },
  {
   "cell_type": "code",
   "execution_count": null,
   "metadata": {},
   "outputs": [],
   "source": [
    "a = [1, 2, 3, 4]\n",
    "b = a.append(5)\n",
    "\n",
    "print(b)"
   ]
  },
  {
   "cell_type": "code",
   "execution_count": null,
   "metadata": {},
   "outputs": [],
   "source": [
    "class Employee(object):\n",
    "    numEmployee = 0\n",
    "    def __init__(self, name, rate):\n",
    "        self.owed = 0\n",
    "        self.name = name\n",
    "        self.rate=rate\n",
    "        Employee.numEmployee += 1\n",
    "\n",
    "    def __del__(self):\n",
    "        Employee.numEmployee -= 1\n",
    "\n",
    "    def hours(self, numHours):\n",
    "        self.owed += numHours * self.rate\n",
    "        return(\"%.2f hours worked\" % numHours)\n",
    "    \n",
    "    def pay(self):\n",
    "        self.owed = 0\n",
    "        return(\"payed %s \" % self.name)"
   ]
  },
  {
   "cell_type": "code",
   "execution_count": null,
   "metadata": {},
   "outputs": [],
   "source": [
    "class Hotel(object):\n",
    "    def __init__(self, name, rate, room, dist):\n",
    "        self.name = name\n",
    "        self.rate = rate\n",
    "        self.room = room\n",
    "        self.dist = dist\n",
    "\n",
    "\n",
    "a = Hotel('A', 100000, 3, 1)\n",
    "b = Hotel('B', 120000, 2, 2)\n",
    "\n",
    "if a.rate < b.rate \\\n",
    "    and a.room > b.room \\\n",
    "    and a.dist < b.dist:\n",
    "    print('Hotel {} is better than Hotel {}'.format(a.name, b.name))\n"
   ]
  },
  {
   "cell_type": "code",
   "execution_count": null,
   "metadata": {},
   "outputs": [],
   "source": [
    "print('hotel: [name: {}, rate: {}, dist: {}]'.format(a.name, a.rate, a.dist))"
   ]
  },
  {
   "cell_type": "code",
   "execution_count": null,
   "metadata": {},
   "outputs": [],
   "source": [
    "from functools import cmp_to_key\n",
    "\n",
    "def comp(a, b):\n",
    "    if a.rate < b.rate and a.room > b.room and a.dist < b.dist:\n",
    "        return -1\n",
    "    elif a.rate > b.rate and a.room < b.room and a.dist > b.dist:\n",
    "        return 1\n",
    "    else:\n",
    "        return 0\n",
    "\n",
    "hotels = [\n",
    "    Hotel('A', 100000, 3, 1),\n",
    "    Hotel('B', 120000, 2, 2),\n",
    "    Hotel('C', 90000, 4, 0)\n",
    "]\n",
    "sorted_list = sorted(\n",
    "    hotels, \n",
    "    key=cmp_to_key(comp))\n",
    "\n",
    "for a in sorted_list:\n",
    "    print('hotel: [name: {}, rate: {}, room: {}, dist: {}]'.format(a.name, a.rate, a.room, a.dist))"
   ]
  },
  {
   "cell_type": "code",
   "execution_count": null,
   "metadata": {},
   "outputs": [],
   "source": [
    "class Hotel(object):\n",
    "    def __init__(self, name, rate, room, dist):\n",
    "        self.name = name\n",
    "        self.rate = rate\n",
    "        self.room = room\n",
    "        self.dist = dist\n",
    "\n",
    "    def __lt__(self, other):\n",
    "        if self.rate < other.rate \\\n",
    "            and self.room > other.room \\\n",
    "            and self.dist < other.dist:\n",
    "            return True\n",
    "        return False\n",
    "\n",
    "hotels = [\n",
    "    Hotel('A', 100000, 3, 1),\n",
    "    Hotel('B', 120000, 2, 2),\n",
    "    Hotel('C', 90000, 4, 0)\n",
    "]\n",
    "\n",
    "sorted_list = sorted(hotels)\n",
    "\n",
    "for a in sorted_list:\n",
    "    print('hotel: [name: {}, rate: {}, room: {}, dist: {}]'.format(a.name, a.rate, a.room, a.dist))"
   ]
  },
  {
   "cell_type": "code",
   "execution_count": null,
   "metadata": {},
   "outputs": [],
   "source": [
    "class Hotel(object):\n",
    "    def __init__(self, name, rate, room, dist):\n",
    "        self.name = name\n",
    "        self.rate = rate\n",
    "        self.room = room\n",
    "        self.dist = dist\n",
    "\n",
    "    def __lt__(self, other):\n",
    "        if self.rate < other.rate \\\n",
    "            and self.room > other.room \\\n",
    "            and self.dist < other.dist:\n",
    "            return True\n",
    "        return False\n",
    "    \n",
    "    def __repr__(self):\n",
    "        return \"[name: {}, rate: {}, room: {}, dist: {}]\".format(\n",
    "            self.name, self.rate, self.room, self.dist\n",
    "        )\n",
    "\n",
    "hotels = [\n",
    "    Hotel('A', 100000, 3, 1),\n",
    "    Hotel('B', 120000, 2, 2),\n",
    "    Hotel('C', 90000, 4, 0)\n",
    "]\n",
    "\n",
    "sorted_list = sorted(hotels)\n",
    "\n",
    "for a in sorted_list:\n",
    "    print('hotel:', a)"
   ]
  },
  {
   "cell_type": "code",
   "execution_count": null,
   "metadata": {},
   "outputs": [],
   "source": [
    "a = Employee('Kim', 10000)\n",
    "b = Employee('Park', 12000)\n",
    "\n",
    "if a > b:\n",
    "    print(\"{}'s rate is larger than {}'s\".format(b.name, a.name))"
   ]
  },
  {
   "cell_type": "code",
   "execution_count": null,
   "metadata": {},
   "outputs": [],
   "source": [
    "from date import Date\n",
    "\n"
   ]
  },
  {
   "cell_type": "code",
   "execution_count": null,
   "metadata": {},
   "outputs": [],
   "source": [
    "from dataclasses import dataclass\n",
    "\n",
    "@dataclass\n",
    "class Employee:\n",
    "    name: str\n",
    "    dept: str\n",
    "    salary: int\n",
    "\n",
    "john = Employee('john', 'computer lab', 1000)\n",
    "print(john.salary)"
   ]
  },
  {
   "cell_type": "code",
   "execution_count": null,
   "metadata": {},
   "outputs": [],
   "source": [
    "class Complex(object):\n",
    "    def __init__(self, x, y):\n",
    "        self._x = x\n",
    "        self._y = y\n",
    "    \n",
    "    def __add__(self, other):\n",
    "        return Complex(self._x + other._x, self._y + other._y)\n",
    "    \n",
    "    def __sub__(self, other):\n",
    "        return Complex(self._x - other._y, self._y - other._y)\n",
    "    \n",
    "    def __mul__(self, other):\n",
    "        return Complex(self._x * other._x - self._y * other._y,\n",
    "                       self._x * other._y + self._y * other._x)\n",
    "    \n",
    "    def __truediv__(self, other):\n",
    "        norm = other._x**2 + other._y**2\n",
    "        return Complex((self._x * other._x + self._y * other._y) / norm,\n",
    "                       (self._y * other._x - self._x * other._y) / norm)\n",
    "    \n",
    "    def __repr__(self):\n",
    "        return \"{} + {}i\".format(self._x, self._y)\n",
    "\n",
    "a = Complex(1, 2)\n",
    "b = Complex(3, 4)\n",
    "\n",
    "print(a + b)\n",
    "print(a - b)\n",
    "print(a * b)\n",
    "print(a / b)"
   ]
  },
  {
   "cell_type": "code",
   "execution_count": 22,
   "metadata": {},
   "outputs": [],
   "source": [
    "class MyList(object):\n",
    "    def __init__(self):\n",
    "        self._data = list()\n",
    "\n",
    "    def __getitem__(self, index):\n",
    "        return self._data[index]\n",
    "\n",
    "    def __setitem__(self, key, value):\n",
    "        self._data[key] = value\n",
    "\n",
    "    def __len__(self):\n",
    "        return len(self._data)\n",
    "\n",
    "    def __contains__(self, item):\n",
    "        return item in self._data\n",
    "\n",
    "    def append(self, item):\n",
    "        self._data.append(item)\n",
    "    \n",
    "    def __iter__(self):\n",
    "        self.idx = 0\n",
    "        return self\n",
    "    \n",
    "    def __next__(self):\n",
    "        if self.idx == len(self._data):\n",
    "            raise StopIteration\n",
    "        else:\n",
    "            val = self._data[self.idx]\n",
    "            self.idx += 1\n",
    "            return val"
   ]
  },
  {
   "cell_type": "code",
   "execution_count": 23,
   "metadata": {},
   "outputs": [
    {
     "name": "stdout",
     "output_type": "stream",
     "text": [
      "1\n",
      "3\n",
      "a new value\n",
      "a has 4\n"
     ]
    }
   ],
   "source": [
    "a = MyList()\n",
    "a.append(1)\n",
    "a.append(2)\n",
    "a.append(3)\n",
    "a.append(4)\n",
    "\n",
    "print(a[0])\n",
    "print(a[2])\n",
    "\n",
    "a[2] = 'a new value'\n",
    "\n",
    "print(a[2])\n",
    "\n",
    "if 4 in a:\n",
    "    print('a has 4')"
   ]
  },
  {
   "cell_type": "code",
   "execution_count": 24,
   "metadata": {},
   "outputs": [
    {
     "name": "stdout",
     "output_type": "stream",
     "text": [
      "1\n",
      "2\n",
      "a new value\n",
      "4\n"
     ]
    }
   ],
   "source": [
    "for i in a:\n",
    "    print(i)"
   ]
  },
  {
   "cell_type": "code",
   "execution_count": null,
   "metadata": {},
   "outputs": [],
   "source": [
    "class MyFamily(object):\n",
    "    def __init__(self):\n",
    "        self.members = dict()\n",
    "    \n",
    "    def add_member(self, id, name):\n",
    "        self.members[id] = name\n",
    "\n",
    "    def __getitem__(self, id):\n",
    "        return self.members[id]\n",
    "    \n",
    "    def __len__(self):\n",
    "        return len(self.members.keys())"
   ]
  },
  {
   "cell_type": "code",
   "execution_count": null,
   "metadata": {},
   "outputs": [],
   "source": [
    "my_family = MyFamily()\n",
    "\n",
    "my_family.add_member('mom', 'Jane')\n",
    "my_family.add_member('dad', 'Mike')\n",
    "my_family.add_member('child1', 'Bill')\n",
    "my_family.add_member('child2', 'Nick')\n",
    "\n",
    "print(my_family['mom'])\n",
    "print(my_family['child1'])"
   ]
  },
  {
   "cell_type": "code",
   "execution_count": 27,
   "metadata": {},
   "outputs": [],
   "source": [
    "class Counter(object):\n",
    "    def __init__(self):\n",
    "        self._counter = 0\n",
    "        self._history = list()\n",
    "    \n",
    "    def increase(self):\n",
    "        self._history.append(self._counter)\n",
    "        self._counter += 1\n",
    "    \n",
    "    def decrease(self):\n",
    "        self._history.append(self._counter)\n",
    "        self._counter -= 1\n",
    "\n",
    "    def __repr__(self):\n",
    "        return str(self._counter)\n",
    "    \n",
    "    def __iter__(self):\n",
    "        self.idx = 0\n",
    "        return self\n",
    "    \n",
    "    def __next__(self):\n",
    "        if self.idx == len(self._history):\n",
    "            raise StopIteration\n",
    "        else:\n",
    "            val = self._history[self.idx]\n",
    "            self.idx += 1\n",
    "            return val"
   ]
  },
  {
   "cell_type": "code",
   "execution_count": 28,
   "metadata": {},
   "outputs": [
    {
     "name": "stdout",
     "output_type": "stream",
     "text": [
      "1\n",
      "0\n",
      "1\n",
      "2\n",
      "1\n"
     ]
    }
   ],
   "source": [
    "cnt = Counter()\n",
    "\n",
    "cnt.increase()\n",
    "cnt.increase()\n",
    "cnt.decrease()\n",
    "\n",
    "print(cnt)\n",
    "\n",
    "cnt.increase()\n",
    "\n",
    "for c in cnt:\n",
    "    print(c)"
   ]
  },
  {
   "cell_type": "code",
   "execution_count": 29,
   "metadata": {},
   "outputs": [],
   "source": [
    "import ctypes\n",
    "ArrayType = ctypes.py_object * 5\n",
    "slots = ArrayType()"
   ]
  },
  {
   "cell_type": "code",
   "execution_count": 31,
   "metadata": {},
   "outputs": [
    {
     "ename": "ValueError",
     "evalue": "PyObject is NULL",
     "output_type": "error",
     "traceback": [
      "\u001b[0;31m---------------------------------------------------------------------------\u001b[0m",
      "\u001b[0;31mValueError\u001b[0m                                Traceback (most recent call last)",
      "Cell \u001b[0;32mIn[31], line 1\u001b[0m\n\u001b[0;32m----> 1\u001b[0m \u001b[39mprint\u001b[39m(slots[\u001b[39m0\u001b[39;49m])\n",
      "\u001b[0;31mValueError\u001b[0m: PyObject is NULL"
     ]
    }
   ],
   "source": [
    "print(slots[0])"
   ]
  },
  {
   "cell_type": "code",
   "execution_count": 32,
   "metadata": {},
   "outputs": [],
   "source": [
    "import ctypes\n",
    "ArrayFloat = ctypes.c_float * 5\n",
    "arr = ArrayFloat()"
   ]
  },
  {
   "cell_type": "code",
   "execution_count": 33,
   "metadata": {},
   "outputs": [
    {
     "data": {
      "text/plain": [
       "0.0"
      ]
     },
     "execution_count": 33,
     "metadata": {},
     "output_type": "execute_result"
    }
   ],
   "source": [
    "arr[0]"
   ]
  },
  {
   "cell_type": "code",
   "execution_count": null,
   "metadata": {},
   "outputs": [],
   "source": [
    "import ctypes\n",
    "\n",
    "class MyArray(object):\n",
    "    def __init__(self, size):\n",
    "        assert size > 0, \"Array size must be positive\"\n",
    "        self._size = size\n",
    "        ArrayInt = ctypes.c_int * size\n",
    "        self._arr = ArrayInt()\n",
    "\n",
    "    def __len__(self):\n",
    "        return len(self._size)\n"
   ]
  },
  {
   "cell_type": "code",
   "execution_count": 34,
   "metadata": {},
   "outputs": [
    {
     "name": "stdout",
     "output_type": "stream",
     "text": [
      "5 is in the list\n"
     ]
    }
   ],
   "source": [
    "def item_in_list(list, item):\n",
    "    for i in list:\n",
    "        if i == item:\n",
    "            return True\n",
    "    return False\n",
    "\n",
    "a = [1, 2, 3, 4, 5, 6, 7, 8, 9, 0]\n",
    "\n",
    "if item_in_list(a, 5):\n",
    "    print(\"{} is in the list\".format(5))"
   ]
  },
  {
   "cell_type": "code",
   "execution_count": null,
   "metadata": {},
   "outputs": [],
   "source": [
    "def foo(list):\n",
    "    cnt = 0\n",
    "    for i in list:\n",
    "        if i == 0:\n",
    "            cnt += 1\n",
    "\n",
    "    for i in list:\n",
    "        for j in list:\n",
    "            if i == j:\n",
    "                cnt += 1\n",
    "    return cnt\n"
   ]
  },
  {
   "cell_type": "code",
   "execution_count": null,
   "metadata": {},
   "outputs": [],
   "source": [
    "def boo(list):\n",
    "    positive = 0\n",
    "    negative = 0\n",
    "    for i in list:\n",
    "        if i > 0:\n",
    "            positive += 1\n",
    "    for i in list:\n",
    "        if i < 0:\n",
    "            negative += 1\n",
    "    return positive, negative"
   ]
  },
  {
   "cell_type": "code",
   "execution_count": null,
   "metadata": {},
   "outputs": [],
   "source": [
    "def doo(list):\n",
    "    return list[len(list)-1]"
   ]
  },
  {
   "cell_type": "code",
   "execution_count": 35,
   "metadata": {},
   "outputs": [
    {
     "name": "stdout",
     "output_type": "stream",
     "text": [
      "2.53\n"
     ]
    }
   ],
   "source": [
    "items_to_prices = {\n",
    "    \"cheese\": 2.53, \n",
    "    \"milk\": 3.40, \n",
    "    \"frozen pizza\": 8.01\n",
    "    }\n",
    "\n",
    "print(items_to_prices['cheese'])"
   ]
  },
  {
   "cell_type": "code",
   "execution_count": 36,
   "metadata": {},
   "outputs": [
    {
     "name": "stdout",
     "output_type": "stream",
     "text": [
      "fruit\n"
     ]
    }
   ],
   "source": [
    "fruit_or_veggie = dict([\n",
    "        (\"apple\", \"fruit\"), \n",
    "        (\"carrot\", \"vegetable\")\n",
    "])\n",
    "\n",
    "print(fruit_or_veggie['apple'])"
   ]
  },
  {
   "cell_type": "code",
   "execution_count": null,
   "metadata": {},
   "outputs": [],
   "source": []
  }
 ],
 "metadata": {
  "kernelspec": {
   "display_name": "base",
   "language": "python",
   "name": "python3"
  },
  "language_info": {
   "codemirror_mode": {
    "name": "ipython",
    "version": 3
   },
   "file_extension": ".py",
   "mimetype": "text/x-python",
   "name": "python",
   "nbconvert_exporter": "python",
   "pygments_lexer": "ipython3",
   "version": "3.10.8"
  },
  "orig_nbformat": 4
 },
 "nbformat": 4,
 "nbformat_minor": 2
}
