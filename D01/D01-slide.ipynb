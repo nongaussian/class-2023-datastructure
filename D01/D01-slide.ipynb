{
 "cells": [
  {
   "cell_type": "code",
   "execution_count": 1,
   "metadata": {},
   "outputs": [
    {
     "name": "stdout",
     "output_type": "stream",
     "text": [
      "[1, 2, 3, 4, 5, 6]\n"
     ]
    }
   ],
   "source": [
    "a = [1, 2, 3, 4, 5]\n",
    "\n",
    "b = a\n",
    "\n",
    "a.append(6)\n",
    "\n",
    "print(b)"
   ]
  },
  {
   "cell_type": "code",
   "execution_count": 2,
   "metadata": {},
   "outputs": [
    {
     "name": "stdout",
     "output_type": "stream",
     "text": [
      "<class 'int'>\n"
     ]
    }
   ],
   "source": [
    "a = 1\n",
    "\n",
    "print(type(a))"
   ]
  },
  {
   "cell_type": "code",
   "execution_count": 3,
   "metadata": {},
   "outputs": [
    {
     "name": "stdout",
     "output_type": "stream",
     "text": [
      "<class 'float'>\n"
     ]
    }
   ],
   "source": [
    "a += 0.1\n",
    "\n",
    "print(type(a))"
   ]
  },
  {
   "cell_type": "code",
   "execution_count": 4,
   "metadata": {},
   "outputs": [
    {
     "name": "stdout",
     "output_type": "stream",
     "text": [
      "2\n",
      "1\n"
     ]
    }
   ],
   "source": [
    "a=1\n",
    "b=1\n",
    "def foo():\n",
    "    global a\n",
    "    a=2\n",
    "    b=2\n",
    "\n",
    "foo()\n",
    "\n",
    "print(a)\n",
    "print(b)"
   ]
  },
  {
   "cell_type": "code",
   "execution_count": 12,
   "metadata": {},
   "outputs": [
    {
     "name": "stdout",
     "output_type": "stream",
     "text": [
      "a == b\n",
      "a == c\n",
      "a is c\n",
      "id(a) == id(c)\n"
     ]
    }
   ],
   "source": [
    "a = 1\n",
    "b = 1.0\n",
    "c = a\n",
    "\n",
    "if a == b:\n",
    "    print(\"a == b\")\n",
    "\n",
    "if a is b:\n",
    "    print(\"a is b\")\n",
    "\n",
    "if a == c:\n",
    "    print(\"a == c\")\n",
    "\n",
    "if a is c:\n",
    "    print(\"a is c\")\n",
    "\n",
    "if id(a) == id(c):\n",
    "    print(\"id(a) == id(c)\")\n"
   ]
  },
  {
   "cell_type": "code",
   "execution_count": 14,
   "metadata": {},
   "outputs": [
    {
     "ename": "TypeError",
     "evalue": "'str' object does not support item assignment",
     "output_type": "error",
     "traceback": [
      "\u001b[0;31m---------------------------------------------------------------------------\u001b[0m",
      "\u001b[0;31mTypeError\u001b[0m                                 Traceback (most recent call last)",
      "Cell \u001b[0;32mIn[14], line 3\u001b[0m\n\u001b[1;32m      1\u001b[0m a \u001b[39m=\u001b[39m \u001b[39m\"\u001b[39m\u001b[39mtest\u001b[39m\u001b[39m\"\u001b[39m\n\u001b[0;32m----> 3\u001b[0m a[\u001b[39m0\u001b[39;49m] \u001b[39m=\u001b[39m \u001b[39m'\u001b[39m\u001b[39mx\u001b[39m\u001b[39m'\u001b[39m\n\u001b[1;32m      5\u001b[0m \u001b[39mprint\u001b[39m(a)\n",
      "\u001b[0;31mTypeError\u001b[0m: 'str' object does not support item assignment"
     ]
    }
   ],
   "source": [
    "a = \"test\"\n",
    "\n",
    "a[0] = 'x'\n",
    "\n",
    "print(a)\n"
   ]
  },
  {
   "cell_type": "code",
   "execution_count": 15,
   "metadata": {},
   "outputs": [
    {
     "ename": "TypeError",
     "evalue": "'str' object does not support item assignment",
     "output_type": "error",
     "traceback": [
      "\u001b[0;31m---------------------------------------------------------------------------\u001b[0m",
      "\u001b[0;31mTypeError\u001b[0m                                 Traceback (most recent call last)",
      "Cell \u001b[0;32mIn[15], line 3\u001b[0m\n\u001b[1;32m      1\u001b[0m a \u001b[39m=\u001b[39m \u001b[39m\"\u001b[39m\u001b[39mtest\u001b[39m\u001b[39m\"\u001b[39m\n\u001b[0;32m----> 3\u001b[0m a[\u001b[39m0\u001b[39;49m] \u001b[39m=\u001b[39m \u001b[39m'\u001b[39m\u001b[39mx\u001b[39m\u001b[39m'\u001b[39m\n",
      "\u001b[0;31mTypeError\u001b[0m: 'str' object does not support item assignment"
     ]
    }
   ],
   "source": [
    "a = \"test\"\n",
    "\n",
    "a[0] = 'x'"
   ]
  },
  {
   "cell_type": "code",
   "execution_count": 19,
   "metadata": {},
   "outputs": [
    {
     "name": "stdout",
     "output_type": "stream",
     "text": [
      "test\n"
     ]
    }
   ],
   "source": [
    "a = \"test\"\n",
    "a.upper()\n",
    "\n",
    "print(a)"
   ]
  },
  {
   "cell_type": "code",
   "execution_count": 21,
   "metadata": {},
   "outputs": [
    {
     "name": "stdout",
     "output_type": "stream",
     "text": [
      "TEST\n"
     ]
    }
   ],
   "source": [
    "a = \"test\"\n",
    "b = a.upper()\n",
    "\n",
    "print(b)"
   ]
  },
  {
   "cell_type": "code",
   "execution_count": 20,
   "metadata": {},
   "outputs": [
    {
     "name": "stdout",
     "output_type": "stream",
     "text": [
      "b is a new variable\n"
     ]
    }
   ],
   "source": [
    "a = \"test\"\n",
    "b = a.upper()\n",
    "\n",
    "if id(a) == id(b):\n",
    "    print(\"mutable\")\n",
    "else:\n",
    "    print(\"b is a new variable\")"
   ]
  },
  {
   "cell_type": "code",
   "execution_count": 25,
   "metadata": {},
   "outputs": [
    {
     "name": "stdout",
     "output_type": "stream",
     "text": [
      "None\n"
     ]
    }
   ],
   "source": [
    "a = [1, 2, 3, 4]\n",
    "b = a.append(5)\n",
    "\n",
    "print(b)"
   ]
  },
  {
   "cell_type": "code",
   "execution_count": 6,
   "metadata": {},
   "outputs": [],
   "source": [
    "class Employee(object):\n",
    "    numEmployee = 0\n",
    "    def __init__(self, name, rate):\n",
    "        self.owed = 0\n",
    "        self.name = name\n",
    "        self.rate=rate\n",
    "        Employee.numEmployee += 1\n",
    "\n",
    "    def __del__(self):\n",
    "        Employee.numEmployee -= 1\n",
    "\n",
    "    def hours(self, numHours):\n",
    "        self.owed += numHours * self.rate\n",
    "        return(\"%.2f hours worked\" % numHours)\n",
    "    \n",
    "    def pay(self):\n",
    "        self.owed = 0\n",
    "        return(\"payed %s \" % self.name)"
   ]
  },
  {
   "cell_type": "code",
   "execution_count": 17,
   "metadata": {},
   "outputs": [
    {
     "name": "stdout",
     "output_type": "stream",
     "text": [
      "Hotel A is better than Hotel B\n"
     ]
    }
   ],
   "source": [
    "class Hotel(object):\n",
    "    def __init__(self, name, rate, room, dist):\n",
    "        self.name = name\n",
    "        self.rate = rate\n",
    "        self.room = room\n",
    "        self.dist = dist\n",
    "\n",
    "\n",
    "a = Hotel('A', 100000, 3, 1)\n",
    "b = Hotel('B', 120000, 2, 2)\n",
    "\n",
    "if a.rate < b.rate \\\n",
    "    and a.room > b.room \\\n",
    "    and a.dist < b.dist:\n",
    "    print('Hotel {} is better than Hotel {}'.format(a.name, b.name))\n"
   ]
  },
  {
   "cell_type": "code",
   "execution_count": 21,
   "metadata": {},
   "outputs": [
    {
     "name": "stdout",
     "output_type": "stream",
     "text": [
      "hotel: [name: A, rate: 100000, dist: 1]\n"
     ]
    }
   ],
   "source": [
    "print('hotel: [name: {}, rate: {}, dist: {}]'.format(a.name, a.rate, a.dist))"
   ]
  },
  {
   "cell_type": "code",
   "execution_count": 37,
   "metadata": {},
   "outputs": [
    {
     "name": "stdout",
     "output_type": "stream",
     "text": [
      "hotel: [name: C, rate: 90000, room: 4, dist: 0]\n",
      "hotel: [name: A, rate: 100000, room: 3, dist: 1]\n",
      "hotel: [name: B, rate: 120000, room: 2, dist: 2]\n"
     ]
    }
   ],
   "source": [
    "from functools import cmp_to_key\n",
    "\n",
    "def comp(a, b):\n",
    "    if a.rate < b.rate and a.room > b.room and a.dist < b.dist:\n",
    "        return -1\n",
    "    elif a.rate > b.rate and a.room < b.room and a.dist > b.dist:\n",
    "        return 1\n",
    "    else:\n",
    "        return 0\n",
    "\n",
    "hotels = [\n",
    "    Hotel('A', 100000, 3, 1),\n",
    "    Hotel('B', 120000, 2, 2),\n",
    "    Hotel('C', 90000, 4, 0)\n",
    "]\n",
    "sorted_list = sorted(\n",
    "    hotels, \n",
    "    key=cmp_to_key(comp))\n",
    "\n",
    "for a in sorted_list:\n",
    "    print('hotel: [name: {}, rate: {}, room: {}, dist: {}]'.format(a.name, a.rate, a.room, a.dist))"
   ]
  },
  {
   "cell_type": "code",
   "execution_count": 40,
   "metadata": {},
   "outputs": [
    {
     "name": "stdout",
     "output_type": "stream",
     "text": [
      "hotel: [name: C, rate: 90000, room: 4, dist: 0]\n",
      "hotel: [name: A, rate: 100000, room: 3, dist: 1]\n",
      "hotel: [name: B, rate: 120000, room: 2, dist: 2]\n"
     ]
    }
   ],
   "source": [
    "class Hotel(object):\n",
    "    def __init__(self, name, rate, room, dist):\n",
    "        self.name = name\n",
    "        self.rate = rate\n",
    "        self.room = room\n",
    "        self.dist = dist\n",
    "\n",
    "    def __lt__(self, other):\n",
    "        if self.rate < other.rate \\\n",
    "            and self.room > other.room \\\n",
    "            and self.dist < other.dist:\n",
    "            return True\n",
    "        return False\n",
    "\n",
    "hotels = [\n",
    "    Hotel('A', 100000, 3, 1),\n",
    "    Hotel('B', 120000, 2, 2),\n",
    "    Hotel('C', 90000, 4, 0)\n",
    "]\n",
    "\n",
    "sorted_list = sorted(hotels)\n",
    "\n",
    "for a in sorted_list:\n",
    "    print('hotel: [name: {}, rate: {}, room: {}, dist: {}]'.format(a.name, a.rate, a.room, a.dist))"
   ]
  },
  {
   "cell_type": "code",
   "execution_count": 43,
   "metadata": {},
   "outputs": [
    {
     "name": "stdout",
     "output_type": "stream",
     "text": [
      "hotel: [name: C, rate: 90000, room: 4, dist: 0]\n",
      "hotel: [name: A, rate: 100000, room: 3, dist: 1]\n",
      "hotel: [name: B, rate: 120000, room: 2, dist: 2]\n"
     ]
    }
   ],
   "source": [
    "class Hotel(object):\n",
    "    def __init__(self, name, rate, room, dist):\n",
    "        self.name = name\n",
    "        self.rate = rate\n",
    "        self.room = room\n",
    "        self.dist = dist\n",
    "\n",
    "    def __lt__(self, other):\n",
    "        if self.rate < other.rate \\\n",
    "            and self.room > other.room \\\n",
    "            and self.dist < other.dist:\n",
    "            return True\n",
    "        return False\n",
    "    \n",
    "    def __repr__(self):\n",
    "        return \"[name: {}, rate: {}, room: {}, dist: {}]\".format(\n",
    "            self.name, self.rate, self.room, self.dist\n",
    "        )\n",
    "\n",
    "hotels = [\n",
    "    Hotel('A', 100000, 3, 1),\n",
    "    Hotel('B', 120000, 2, 2),\n",
    "    Hotel('C', 90000, 4, 0)\n",
    "]\n",
    "\n",
    "sorted_list = sorted(hotels)\n",
    "\n",
    "for a in sorted_list:\n",
    "    print('hotel:', a)"
   ]
  },
  {
   "cell_type": "code",
   "execution_count": 8,
   "metadata": {},
   "outputs": [
    {
     "name": "stdout",
     "output_type": "stream",
     "text": [
      "Park's rate is larger than Kim's\n"
     ]
    }
   ],
   "source": [
    "a = Employee('Kim', 10000)\n",
    "b = Employee('Park', 12000)\n",
    "\n",
    "if a > b:\n",
    "    print(\"{}'s rate is larger than {}'s\".format(b.name, a.name))"
   ]
  },
  {
   "cell_type": "code",
   "execution_count": 27,
   "metadata": {},
   "outputs": [
    {
     "ename": "ModuleNotFoundError",
     "evalue": "No module named 'date'",
     "output_type": "error",
     "traceback": [
      "\u001b[0;31m---------------------------------------------------------------------------\u001b[0m",
      "\u001b[0;31mModuleNotFoundError\u001b[0m                       Traceback (most recent call last)",
      "Cell \u001b[0;32mIn[27], line 1\u001b[0m\n\u001b[0;32m----> 1\u001b[0m \u001b[39mfrom\u001b[39;00m \u001b[39mdate\u001b[39;00m \u001b[39mimport\u001b[39;00m Date\n",
      "\u001b[0;31mModuleNotFoundError\u001b[0m: No module named 'date'"
     ]
    }
   ],
   "source": [
    "from date import Date\n",
    "\n"
   ]
  },
  {
   "cell_type": "code",
   "execution_count": 3,
   "metadata": {},
   "outputs": [
    {
     "name": "stdout",
     "output_type": "stream",
     "text": [
      "1000\n"
     ]
    }
   ],
   "source": [
    "from dataclasses import dataclass\n",
    "\n",
    "@dataclass\n",
    "class Employee:\n",
    "    name: str\n",
    "    dept: str\n",
    "    salary: int\n",
    "\n",
    "john = Employee('john', 'computer lab', 1000)\n",
    "print(john.salary)"
   ]
  },
  {
   "cell_type": "code",
   "execution_count": 50,
   "metadata": {},
   "outputs": [
    {
     "name": "stdout",
     "output_type": "stream",
     "text": [
      "4 + 6i\n",
      "-3 + -2i\n",
      "-5 + 10i\n",
      "0.44 + 0.08i\n"
     ]
    }
   ],
   "source": [
    "class Complex(object):\n",
    "    def __init__(self, x, y):\n",
    "        self._x = x\n",
    "        self._y = y\n",
    "    \n",
    "    def __add__(self, other):\n",
    "        return Complex(self._x + other._x, self._y + other._y)\n",
    "    \n",
    "    def __sub__(self, other):\n",
    "        return Complex(self._x - other._y, self._y - other._y)\n",
    "    \n",
    "    def __mul__(self, other):\n",
    "        return Complex(self._x * other._x - self._y * other._y,\n",
    "                       self._x * other._y + self._y * other._x)\n",
    "    \n",
    "    def __truediv__(self, other):\n",
    "        norm = other._x**2 + other._y**2\n",
    "        return Complex((self._x * other._x + self._y * other._y) / norm,\n",
    "                       (self._y * other._x - self._x * other._y) / norm)\n",
    "    \n",
    "    def __repr__(self):\n",
    "        return \"{} + {}i\".format(self._x, self._y)\n",
    "\n",
    "a = Complex(1, 2)\n",
    "b = Complex(3, 4)\n",
    "\n",
    "print(a + b)\n",
    "print(a - b)\n",
    "print(a * b)\n",
    "print(a / b)"
   ]
  },
  {
   "cell_type": "code",
   "execution_count": null,
   "metadata": {},
   "outputs": [],
   "source": []
  }
 ],
 "metadata": {
  "kernelspec": {
   "display_name": "base",
   "language": "python",
   "name": "python3"
  },
  "language_info": {
   "codemirror_mode": {
    "name": "ipython",
    "version": 3
   },
   "file_extension": ".py",
   "mimetype": "text/x-python",
   "name": "python",
   "nbconvert_exporter": "python",
   "pygments_lexer": "ipython3",
   "version": "3.10.10"
  },
  "orig_nbformat": 4
 },
 "nbformat": 4,
 "nbformat_minor": 2
}
